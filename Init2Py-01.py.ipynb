{
 "cells": [
  {
   "cell_type": "code",
   "execution_count": 35,
   "metadata": {},
   "outputs": [
    {
     "name": "stdout",
     "output_type": "stream",
     "text": [
      "donne un entier > :7\n",
      "0 3\n",
      "1 7\n",
      "2 12\n",
      "3 18\n",
      "4 25\n",
      "5 33\n",
      "6 42\n"
     ]
    }
   ],
   "source": [
    "#1. Compute the following expressions for a natural number n chosen by the user:\n",
    "# (i)\n",
    "n= int(input(\"donne un entier > :\"))\n",
    "s=0\n",
    "for i in range(n):\n",
    "    s=s+(i+3)\n",
    "    print(i,s)"
   ]
  },
  {
   "cell_type": "code",
   "execution_count": 3,
   "metadata": {},
   "outputs": [
    {
     "name": "stdout",
     "output_type": "stream",
     "text": [
      "donne un entier > :4\n",
      "0 3\n",
      "1 12\n",
      "2 60\n",
      "3 360\n"
     ]
    }
   ],
   "source": [
    "# (ii)\n",
    "\n",
    "n= int(input(\"donne un entier > :\"))\n",
    "p=1\n",
    "for i in range(n):\n",
    "    p=p*(i+3)\n",
    "    print(i,p)\n"
   ]
  },
  {
   "cell_type": "code",
   "execution_count": 23,
   "metadata": {},
   "outputs": [
    {
     "name": "stdout",
     "output_type": "stream",
     "text": [
      "lundi\n",
      "mardi\n",
      "mercredi\n",
      "jeudi\n",
      "vendredi\n",
      "week-end\n",
      "week-end\n"
     ]
    }
   ],
   "source": [
    "# 2)    \n",
    "semaine=[\"lundi\",\"mardi\",\"mercredi\",\"jeudi\",\"vendredi\",\"samedi\",\"dimenche\"]\n",
    "for i in semaine:\n",
    "    if i==\"samedi\":\n",
    "        print(\"week-end\")\n",
    "    elif i==\"dimenche\":\n",
    "        print(\"week-end\")\n",
    "    else:\n",
    "        print(i)\n",
    "                    "
   ]
  },
  {
   "cell_type": "code",
   "execution_count": 29,
   "metadata": {},
   "outputs": [
    {
     "name": "stdout",
     "output_type": "stream",
     "text": [
      "lundi\n",
      "mardi\n",
      "mercredi\n",
      "jeudi\n",
      "vendredi\n",
      "week-end\n",
      "week-end\n"
     ]
    }
   ],
   "source": [
    "# 3)\n",
    "semaine=[\"lundi\",\"mardi\",\"mercredi\",\"jeudi\",\"vendredi\",\"samedi\",\"dimenche\"]\n",
    "for i in semaine:\n",
    "    if i in [\"lundi\",\"mardi\",\"mercredi\",\"jeudi\",\"vendredi\"]:\n",
    "        print(i)\n",
    "    else:\n",
    "        print(\"week-end\")"
   ]
  },
  {
   "cell_type": "code",
   "execution_count": 33,
   "metadata": {},
   "outputs": [
    {
     "name": "stdout",
     "output_type": "stream",
     "text": [
      "mame\n",
      "mame\n",
      "mame\n"
     ]
    }
   ],
   "source": [
    "# 4)\n",
    "i=0\n",
    "for i in range(3):\n",
    "    print(\"mame\")"
   ]
  },
  {
   "cell_type": "code",
   "execution_count": 34,
   "metadata": {},
   "outputs": [
    {
     "name": "stdout",
     "output_type": "stream",
     "text": [
      "mame\n",
      "mame\n",
      "mame\n"
     ]
    }
   ],
   "source": [
    "i=0\n",
    "while i in range(3):\n",
    "    print(\"mame\")\n",
    "    i=i+1"
   ]
  },
  {
   "cell_type": "code",
   "execution_count": 45,
   "metadata": {},
   "outputs": [
    {
     "name": "stdout",
     "output_type": "stream",
     "text": [
      "0 0\n",
      "1 1\n",
      "2 1\n",
      "3 2\n",
      "4 3\n",
      "5 5\n",
      "6 8\n",
      "7 13\n",
      "8 21\n",
      "9 34\n",
      "10 55\n",
      "11 89\n",
      "12 144\n",
      "13 233\n",
      "14 377\n"
     ]
    }
   ],
   "source": [
    "# 5)\n",
    "a_0=0\n",
    "a_1=1\n",
    "print(0,a_0)\n",
    "print(1,a_1)\n",
    "for i in range(2,15):\n",
    "    a=a_0+a_1\n",
    "    a_0=a_1\n",
    "    a_1=a\n",
    "    print(i,a)"
   ]
  },
  {
   "cell_type": "code",
   "execution_count": 47,
   "metadata": {},
   "outputs": [
    {
     "name": "stdout",
     "output_type": "stream",
     "text": [
      "0 0\n",
      "1 1\n",
      "2 0.5\n",
      "3 3.25\n",
      "4 3.125\n",
      "5 11.3125\n",
      "6 15.03125\n",
      "7 41.453125\n",
      "8 65.8203125\n",
      "9 157.26953125\n",
      "10 276.095703125\n",
      "11 609.8564453125\n",
      "12 1133.21533203125\n",
      "13 2396.177001953125\n",
      "14 4597.7344970703125\n",
      "15 9487.398254394531\n",
      "16 18536.902618408203\n",
      "17 37730.646072387695\n",
      "18 74476.03089141846\n",
      "19 150429.9536628723\n",
      "20 298643.0695056915\n",
      "21 600611.3957414627\n",
      "22 1196234.906387806\n",
      "23 2399951.640418291\n",
      "24 4788680.539372563\n",
      "25 9594195.190941155\n",
      "26 19163139.213588268\n",
      "27 38364155.1796176\n",
      "28 76671495.2305736\n",
      "29 153428213.15413958\n"
     ]
    }
   ],
   "source": [
    "# 6)\n",
    "x_0=0\n",
    "x_1=1\n",
    "print(0,x_0)\n",
    "print(1,x_1)\n",
    "for i in range(2,30):\n",
    "    x=(x_1+6*x_0)/2\n",
    "    x_0=x_1\n",
    "    x_1=x\n",
    "    print(i,x)"
   ]
  },
  {
   "cell_type": "code",
   "execution_count": 52,
   "metadata": {},
   "outputs": [
    {
     "name": "stdout",
     "output_type": "stream",
     "text": [
      "2021 année non bissextile\n",
      "2020 année bissextile\n"
     ]
    }
   ],
   "source": [
    "# 7)\n",
    "# a)\n",
    "def type_année(N) :\n",
    "    if (N % 4 == 0 and N % 100 !=0 ) or (N % 400 == 0):\n",
    "        print(N,\"année bissextile\")\n",
    "    else:\n",
    "        print(N, \"année non bissextile\")\n",
    "type_année(2021) \n",
    "type_année(2020) "
   ]
  },
  {
   "cell_type": "code",
   "execution_count": 54,
   "metadata": {},
   "outputs": [
    {
     "name": "stdout",
     "output_type": "stream",
     "text": [
      "donne un entier > :12\n",
      "0 0\n",
      "1 1\n",
      "2 5\n",
      "3 14\n",
      "4 30\n",
      "5 55\n",
      "6 91\n",
      "7 140\n",
      "8 204\n",
      "9 285\n",
      "10 385\n",
      "11 506\n"
     ]
    }
   ],
   "source": [
    "# 8)\n",
    "n= int(input(\"donne un entier > :\"))\n",
    "s=0\n",
    "for i in range(n):\n",
    "    s=s+i**2\n",
    "    print(i,s)\n"
   ]
  },
  {
   "cell_type": "code",
   "execution_count": 55,
   "metadata": {},
   "outputs": [
    {
     "name": "stdout",
     "output_type": "stream",
     "text": [
      "donne un entier > :10\n",
      "0 0\n",
      "1 1\n",
      "2 5\n",
      "3 14\n",
      "4 30\n",
      "5 55\n",
      "6 91\n",
      "7 140\n",
      "8 204\n",
      "9 285\n"
     ]
    }
   ],
   "source": [
    "# 8)\n",
    "n= int(input(\"donne un entier > :\"))\n",
    "s=0\n",
    "i=0\n",
    "while i in range(n):\n",
    "    s=s+i**2\n",
    "    print(i,s)\n",
    "    i=i+1"
   ]
  },
  {
   "cell_type": "code",
   "execution_count": 63,
   "metadata": {},
   "outputs": [
    {
     "ename": "SyntaxError",
     "evalue": "invalid syntax (<ipython-input-63-29cf5e4651ea>, line 6)",
     "output_type": "error",
     "traceback": [
      "\u001b[0;36m  File \u001b[0;32m\"<ipython-input-63-29cf5e4651ea>\"\u001b[0;36m, line \u001b[0;32m6\u001b[0m\n\u001b[0;31m    for (s >=m):\u001b[0m\n\u001b[0m               ^\u001b[0m\n\u001b[0;31mSyntaxError\u001b[0m\u001b[0;31m:\u001b[0m invalid syntax\n"
     ]
    }
   ],
   "source": [
    "n= int(input(\"donne un entier > :\"))\n",
    "m= int\n",
    "s=0\n",
    "for i in range(1, n+1):\n",
    "    s=s+i**2\n",
    "    for (s >=m):\n",
    "        print(m)\n"
   ]
  },
  {
   "cell_type": "code",
   "execution_count": null,
   "metadata": {},
   "outputs": [],
   "source": []
  }
 ],
 "metadata": {
  "kernelspec": {
   "display_name": "Python 3",
   "language": "python",
   "name": "python3"
  },
  "language_info": {
   "codemirror_mode": {
    "name": "ipython",
    "version": 3
   },
   "file_extension": ".py",
   "mimetype": "text/x-python",
   "name": "python",
   "nbconvert_exporter": "python",
   "pygments_lexer": "ipython3",
   "version": "3.8.10"
  }
 },
 "nbformat": 4,
 "nbformat_minor": 4
}
