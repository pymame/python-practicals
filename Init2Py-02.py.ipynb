{
 "cells": [
  {
   "cell_type": "code",
   "execution_count": 6,
   "metadata": {},
   "outputs": [
    {
     "name": "stdout",
     "output_type": "stream",
     "text": [
      "valeur de x :5\n",
      "valeur de y :3\n",
      "T = 10.972757227213107\n"
     ]
    }
   ],
   "source": [
    "# 1)\n",
    "import math\n",
    "x= float(input(\"valeur de x :\"))\n",
    "y= float(input(\"valeur de y :\"))\n",
    "T= ((x**2+y)**(1/2))/(1/x+2*math.sin(y))\n",
    "print(\"T =\", T)"
   ]
  },
  {
   "cell_type": "code",
   "execution_count": 11,
   "metadata": {},
   "outputs": [
    {
     "name": "stdout",
     "output_type": "stream",
     "text": [
      "1 2\n",
      "2 4\n",
      "3 8\n"
     ]
    }
   ],
   "source": [
    "# 2)\n",
    "def ownpowerfn(b,n) :\n",
    "    p=1\n",
    "    for i in range(1,n+1):\n",
    "        p=p*b\n",
    "        print(i,p)\n",
    "ownpowerfn(2,3)         "
   ]
  },
  {
   "cell_type": "code",
   "execution_count": 13,
   "metadata": {},
   "outputs": [
    {
     "name": "stdout",
     "output_type": "stream",
     "text": [
      "moyenne arith = 4.0\n"
     ]
    }
   ],
   "source": [
    "# 3)\n",
    "def moyenne_A(a,b):\n",
    "    M=(a+b)/2\n",
    "    print(\"moyenne arith =\",M)\n",
    "moyenne_A(2,6)   "
   ]
  },
  {
   "cell_type": "code",
   "execution_count": 14,
   "metadata": {},
   "outputs": [
    {
     "name": "stdout",
     "output_type": "stream",
     "text": [
      "moyenne géom = 6.0\n"
     ]
    }
   ],
   "source": [
    "def moyenne_G(a,b):\n",
    "    M=(a*b)**1/2\n",
    "    print(\"moyenne géom =\",M)\n",
    "moyenne_G(2,6)   "
   ]
  },
  {
   "cell_type": "code",
   "execution_count": 15,
   "metadata": {},
   "outputs": [
    {
     "data": {
      "text/plain": [
       "86.0"
      ]
     },
     "execution_count": 15,
     "metadata": {},
     "output_type": "execute_result"
    }
   ],
   "source": [
    "# b)\n",
    " \n",
    "def celcius_to_fahrenheit (T):\n",
    "radians_to_degrees  (30)    \n",
    "    return T * 1.80 + 32\n",
    "celcius_to_fahrenheit (30)"
   ]
  },
  {
   "cell_type": "code",
   "execution_count": 19,
   "metadata": {},
   "outputs": [
    {
     "data": {
      "text/plain": [
       "-1.1111111111111112"
      ]
     },
     "execution_count": 19,
     "metadata": {},
     "output_type": "execute_result"
    }
   ],
   "source": [
    "def fahrenheit_to_celcius (T):\n",
    "     return (T - 32)/1.80   \n",
    "    \n",
    "    \n",
    "fahrenheit_to_celcius (30)"
   ]
  },
  {
   "cell_type": "code",
   "execution_count": 18,
   "metadata": {},
   "outputs": [
    {
     "data": {
      "text/plain": [
       "0.5233333333333333"
      ]
     },
     "execution_count": 18,
     "metadata": {},
     "output_type": "execute_result"
    }
   ],
   "source": [
    "# c)\n",
    "def degrés_to_radians (T):\n",
    "    return (T * 3.14 )/180 \n",
    "degrés_to_radians (30)"
   ]
  },
  {
   "cell_type": "code",
   "execution_count": 20,
   "metadata": {},
   "outputs": [
    {
     "data": {
      "text/plain": [
       "1719.7452229299363"
      ]
     },
     "execution_count": 20,
     "metadata": {},
     "output_type": "execute_result"
    }
   ],
   "source": [
    "# c)\n",
    "def radians_to_degrees  (T):\n",
    "    \n",
    "    return (T *180)/3.14\n",
    "radians_to_degrees  (30)"
   ]
  },
  {
   "cell_type": "code",
   "execution_count": null,
   "metadata": {},
   "outputs": [],
   "source": []
  }
 ],
 "metadata": {
  "kernelspec": {
   "display_name": "Python 3",
   "language": "python",
   "name": "python3"
  },
  "language_info": {
   "codemirror_mode": {
    "name": "ipython",
    "version": 3
   },
   "file_extension": ".py",
   "mimetype": "text/x-python",
   "name": "python",
   "nbconvert_exporter": "python",
   "pygments_lexer": "ipython3",
   "version": "3.8.10"
  }
 },
 "nbformat": 4,
 "nbformat_minor": 4
}
